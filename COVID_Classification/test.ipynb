{
 "cells": [
  {
   "cell_type": "markdown",
   "metadata": {},
   "source": [
    "# This is the very beginning of the covid classification"
   ]
  }
 ],
 "metadata": {
  "kernelspec": {
   "display_name": "konnektable",
   "language": "python",
   "name": "python3"
  },
  "language_info": {
   "name": "python",
   "version": "3.9.0"
  }
 },
 "nbformat": 4,
 "nbformat_minor": 2
}
